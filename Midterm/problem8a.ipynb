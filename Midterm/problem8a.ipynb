{
  "cells": [
    {
      "cell_type": "markdown",
      "metadata": {
        "id": "987cEYEfDflg"
      },
      "source": [
        "# Midterm Question 8 a"
      ]
    },
    {
      "cell_type": "code",
      "execution_count": 65,
      "metadata": {
        "id": "sGHZVwptDflj"
      },
      "outputs": [],
      "source": [
        "from skimage.feature import hog\n",
        "from skimage.io import imread\n",
        "from skimage.transform import rescale\n",
        "import matplotlib.pyplot as plt\n",
        "import numpy as np\n",
        "import pandas as pd\n"
      ]
    },
    {
      "cell_type": "code",
      "execution_count": 66,
      "metadata": {},
      "outputs": [],
      "source": [
        "from typing import Mapping\n",
        "from sympy import ImageSet\n",
        "\n",
        "\n",
        "includeImage = ['agri_0_9971.jpeg', 'agri_0_9963.jpeg', 'agri_0_9960.jpeg',\n",
        "           'agri_0_9952.jpeg', 'agri_0_9933.jpeg', 'agri_0_9927.jpeg', 'agri_0_9916.jpeg', 'agri_0_9908.jpeg', 'agri_0_9899.jpeg']\n",
        "\n",
        "path = \"problem8/agri_data/data/\"\n",
        "\n",
        "ImageSet = []\n",
        "MappingSet = [\"weed\", \"weed\", \"weed\", \"crop\", \"weed\", \"weed\", \"crop\", \"crop\", \"weed\"]\n",
        "\n",
        "for file in includeImage:\n",
        "    image = imread(path + file)\n",
        "    ImageSet.append(np.array(image))\n",
        "    # np.array([local_hog(img) for img in X])\n",
        "\n",
        "# for file in includeMap:\n",
        "#     MappingSet.append(pd.read_csv(path + file, sep = \" \"))\n",
        "\n",
        "# ImageSet\n",
        "# MappingSet\n",
        "\n",
        "# for set in ImageSet:\n",
        "    # print(set[0])\n",
        "    # print(set[0].shape[0])"
      ]
    },
    {
      "cell_type": "code",
      "execution_count": 67,
      "metadata": {},
      "outputs": [],
      "source": [
        "from sklearn.model_selection import train_test_split\n",
        "\n",
        "X_train, X_test, y_train, y_test = train_test_split(\n",
        "    ImageSet, \n",
        "    MappingSet, \n",
        "    test_size=0.2, \n",
        "    shuffle=True,\n",
        "    random_state=42,\n",
        ")"
      ]
    },
    {
      "cell_type": "code",
      "execution_count": 68,
      "metadata": {},
      "outputs": [],
      "source": [
        "from sklearn.base import BaseEstimator, TransformerMixin\n",
        " \n",
        "class RGB2GrayTransformer(BaseEstimator, TransformerMixin):\n",
        "    \"\"\"\n",
        "    Convert an array of RGB images to grayscale\n",
        "    \"\"\"\n",
        " \n",
        "    def __init__(self):\n",
        "        pass\n",
        " \n",
        "    def fit(self, X, y=None):\n",
        "        \"\"\"returns itself\"\"\"\n",
        "        return self\n",
        " \n",
        "    def transform(self, X, y=None):\n",
        "        \"\"\"perform the transformation and return an array\"\"\"\n",
        "        return np.array([skimage.color.rgb2gray(img) for img in X])\n",
        "     \n",
        " \n",
        "class HogTransformer(BaseEstimator, TransformerMixin):\n",
        "    \"\"\"\n",
        "    Expects an array of 2d arrays (1 channel images)\n",
        "    Calculates hog features for each img\n",
        "    \"\"\"\n",
        " \n",
        "    def __init__(self, y=None, orientations=9,\n",
        "                 pixels_per_cell=(8, 8),\n",
        "                 cells_per_block=(3, 3), block_norm='L2-Hys'):\n",
        "        self.y = y\n",
        "        self.orientations = orientations\n",
        "        self.pixels_per_cell = pixels_per_cell\n",
        "        self.cells_per_block = cells_per_block\n",
        "        self.block_norm = block_norm\n",
        " \n",
        "    def fit(self, X, y=None):\n",
        "        return self\n",
        " \n",
        "    def transform(self, X, y=None):\n",
        " \n",
        "        def local_hog(X):\n",
        "            return hog(X,\n",
        "                       orientations=self.orientations,\n",
        "                       pixels_per_cell=self.pixels_per_cell,\n",
        "                       cells_per_block=self.cells_per_block,\n",
        "                       block_norm=self.block_norm)\n",
        " \n",
        "        try: # parallel\n",
        "            return np.array([local_hog(img) for img in X])\n",
        "        except:\n",
        "            return np.array([local_hog(img) for img in X])"
      ]
    },
    {
      "cell_type": "code",
      "execution_count": 69,
      "metadata": {},
      "outputs": [
        {
          "name": "stdout",
          "output_type": "stream",
          "text": [
            "(7, 44100)\n"
          ]
        }
      ],
      "source": [
        "from sklearn.linear_model import SGDClassifier\n",
        "from sklearn.model_selection import cross_val_predict\n",
        "from sklearn.preprocessing import StandardScaler, Normalizer\n",
        "import skimage\n",
        "\n",
        "# create an instance of each transformer\n",
        "grayify = RGB2GrayTransformer()\n",
        "hogify = HogTransformer(\n",
        "    pixels_per_cell=(14, 14), \n",
        "    cells_per_block=(2,2), \n",
        "    orientations=9, \n",
        "    block_norm='L2-Hys'\n",
        ")\n",
        "scalify = StandardScaler()\n",
        "\n",
        "X_train_gray = grayify.fit_transform(X_train)\n",
        "X_train_hog = hogify.fit_transform(X_train_gray)\n",
        "X_train_prepared = scalify.fit_transform(X_train_hog)\n",
        "\n",
        "X_test_gray = grayify.fit_transform(X_test)\n",
        "X_test_hog = hogify.fit_transform(X_test_gray)\n",
        "X_test_prepared = scalify.fit_transform(X_test_hog)\n",
        " \n",
        "print(X_train_prepared.shape)"
      ]
    },
    {
      "cell_type": "code",
      "execution_count": 70,
      "metadata": {},
      "outputs": [
        {
          "data": {
            "text/plain": [
              "1.0"
            ]
          },
          "execution_count": 70,
          "metadata": {},
          "output_type": "execute_result"
        }
      ],
      "source": [
        "sgd_clf = SGDClassifier(random_state=42, max_iter=1000, tol=1e-3)\n",
        "sgd_clf.fit(X_train_prepared, y_train)\n",
        "sgd_clf.score(X_test_prepared , y_test)"
      ]
    }
  ],
  "metadata": {
    "celltoolbar": "Create Assignment",
    "colab": {
      "collapsed_sections": [],
      "provenance": []
    },
    "kernelspec": {
      "display_name": "Python 3.9.12 ('base')",
      "language": "python",
      "name": "python3"
    },
    "language_info": {
      "codemirror_mode": {
        "name": "ipython",
        "version": 3
      },
      "file_extension": ".py",
      "mimetype": "text/x-python",
      "name": "python",
      "nbconvert_exporter": "python",
      "pygments_lexer": "ipython3",
      "version": "3.9.12"
    },
    "vscode": {
      "interpreter": {
        "hash": "805421db8b23ffc713e487998e3acec93062f5715efb0995351f338c80e7b362"
      }
    }
  },
  "nbformat": 4,
  "nbformat_minor": 0
}
